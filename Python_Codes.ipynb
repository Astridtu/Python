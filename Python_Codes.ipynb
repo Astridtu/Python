{
 "cells": [
  {
   "cell_type": "code",
   "execution_count": 1,
   "id": "795f362d",
   "metadata": {},
   "outputs": [
    {
     "name": "stdout",
     "output_type": "stream",
     "text": [
      "Please enter the width of rectangle: 5\n",
      "Please enter the height of rectangle: 4\n",
      "The area of Rectangle is :  20\n"
     ]
    }
   ],
   "source": [
    "def Getarea(width, height):\n",
    "    area = width * height\n",
    "    return area\n",
    "width = int(input(\"Please enter the width of rectangle: \"))\n",
    "height = int(input(\"Please enter the height of rectangle: \"))\n",
    "area = Getarea(width, height)\n",
    "print(\"The area of Rectangle is : \", area)"
   ]
  },
  {
   "cell_type": "code",
   "execution_count": 3,
   "id": "fce9c771",
   "metadata": {},
   "outputs": [
    {
     "name": "stdout",
     "output_type": "stream",
     "text": [
      "Write celsuis 32\n",
      "Farenheit is :  89.6\n"
     ]
    }
   ],
   "source": [
    "def ctof(c):\n",
    "    f = c * 1.8 + 32\n",
    "    return f\n",
    "inputc = float(input(\"Write celsuis \"))\n",
    "print(\"Farenheit is : %5.1f\" % ctof(inputc))"
   ]
  },
  {
   "cell_type": "code",
   "execution_count": 5,
   "id": "0bbdcf71",
   "metadata": {},
   "outputs": [
    {
     "name": "stdout",
     "output_type": "stream",
     "text": [
      "Write farenheit 78\n",
      "Celsuis is :  25.6\n"
     ]
    }
   ],
   "source": [
    "def ftof(f):\n",
    "    c = (f-32)/1.8\n",
    "    return c\n",
    "inputf = float(input(\"Write farenheit \"))\n",
    "print(\"Celsuis is : %5.1f\" % ftof(inputf))"
   ]
  },
  {
   "cell_type": "code",
   "execution_count": 10,
   "id": "25dbf94d",
   "metadata": {},
   "outputs": [
    {
     "name": "stdout",
     "output_type": "stream",
     "text": [
      "The area of Rectangle is :  60\n",
      "The area of Rectangle is :  54\n",
      "The area of Rectangle is :  300\n",
      "The area of Rectangle is :  270\n"
     ]
    }
   ],
   "source": [
    "def Getarea(width, height = 10):\n",
    "    area = width * height\n",
    "    return area\n",
    "area = Getarea(6)\n",
    "print(\"The area of Rectangle is : \", area)\n",
    "area = Getarea(6, 9)\n",
    "print(\"The area of Rectangle is : \", area)\n",
    "\n",
    "def GetVol(width= 20, length = 10, height = 5):\n",
    "    Vol = width * height * length\n",
    "    return Vol\n",
    "area = GetVol(6)\n",
    "print(\"The area of Rectangle is : \", area)\n",
    "area = GetVol(6, 9)\n",
    "print(\"The area of Rectangle is : \", area)"
   ]
  },
  {
   "cell_type": "code",
   "execution_count": 19,
   "id": "062ebf74",
   "metadata": {},
   "outputs": [],
   "source": [
    "def calsum(* params):\n",
    "    total = 0\n",
    "    for param in params:\n",
    "        total+= param\n",
    "        return total\n",
    "    print(\"There is no number\")\n",
    "    print(\"2 total of (2, 4) = %d\" % calsum(2, 4))\n",
    "    print(\"3 total of (2, 4, 5) = %d\" % calsum(2, 4, 5))\n",
    "    print(\"4 total of (2, 4, 5, 8) = %d\" % calsum(2, 4, 5, 8))\n",
    "    print(\"5 total of (2, 4, 5, 8, 12) = %d\" % calsum(2, 4, 5, 8, 12))"
   ]
  },
  {
   "cell_type": "code",
   "execution_count": 26,
   "id": "a1f3bfea",
   "metadata": {},
   "outputs": [
    {
     "name": "stdout",
     "output_type": "stream",
     "text": [
      "1 20\n",
      "10 20\n"
     ]
    }
   ],
   "source": [
    "def scope():\n",
    "    var1 = 1\n",
    "    return var1, var2\n",
    "var1 = 10\n",
    "var2 = 20\n",
    "x, y = scope()\n",
    "print(x, y)\n",
    "print(var1, var2)"
   ]
  },
  {
   "cell_type": "code",
   "execution_count": 27,
   "id": "6e20eee2",
   "metadata": {},
   "outputs": [
    {
     "name": "stdout",
     "output_type": "stream",
     "text": [
      "5\n",
      "0b1\n",
      "True\n",
      "False\n",
      "True\n",
      "A\n",
      "(7, 2)\n",
      "56.0\n",
      "0x22\n",
      "34\n",
      "34\n",
      "34\n",
      "34\n",
      "34\n",
      "35\n",
      "35\n",
      "3\n",
      "5\n",
      "1\n",
      "0o42\n",
      "109\n",
      "8\n",
      "[1, 3, 5]\n",
      "56\n",
      "9\n",
      "<class 'int'>\n"
     ]
    }
   ],
   "source": [
    "print(abs(-5))\n",
    "print(bin(1))\n",
    "print(bool(10))\n",
    "print(bool(0))\n",
    "print(bool(-1))\n",
    "print(chr(65))\n",
    "print(divmod(44, 6))\n",
    "print(float(\"56\"))\n",
    "print(hex(34))\n",
    "print(int(34.21))\n",
    "print(int(34.5))\n",
    "print(int(34.6))\n",
    "print(round(34.21))\n",
    "print(round(34.5))\n",
    "print(round(34.51))\n",
    "print(round(34.6))\n",
    "print(len([1, 3, 5]))\n",
    "print(max(1, 3, 5))\n",
    "print(min(1, 3, 5))\n",
    "print(oct(34))\n",
    "print(ord(\"m\"))\n",
    "print(pow(2, 3))\n",
    "print(sorted([5, 3, 1]))\n",
    "print(str(56))\n",
    "print(sum([1, 3, 5]))\n",
    "print(type(34))"
   ]
  },
  {
   "cell_type": "code",
   "execution_count": 30,
   "id": "0f7c1028",
   "metadata": {},
   "outputs": [
    {
     "name": "stdout",
     "output_type": "stream",
     "text": [
      "3\n",
      "6\n",
      "0.560985523102301\n",
      "0.20766552990691822\n",
      "9\n",
      "3\n",
      "5.802353547307473\n",
      "1.825174487419803\n",
      "a\n",
      "v\n",
      "['N', 'e', ' ']\n",
      "['o', 'Q', 'N']\n",
      "None\n",
      "None\n"
     ]
    }
   ],
   "source": [
    "import random as r\n",
    "print(r.randint(1, 10))\n",
    "print(r.randint(1, 10))\n",
    "print(r.random())\n",
    "print(r.random())\n",
    "print(r.randrange(1, 10, 2))\n",
    "print(r.randrange(1, 10, 2))\n",
    "print(r.uniform(1, 11))\n",
    "print(r.uniform(1, 11))\n",
    "print(r.choice(\"National Quemoy University\"))\n",
    "print(r.choice(\"National Quemoy University\"))\n",
    "print(r.sample(\"National Quemoy University\", 3))\n",
    "print(r.sample(\"National Quemoy University\", 3))\n",
    "print(r.shuffle([\"National\", \"Quemoy\", \"University\"]))\n",
    "print(r.shuffle([\"National\", \"Quemoy\", \"University\"]))"
   ]
  },
  {
   "cell_type": "code",
   "execution_count": 32,
   "id": "f94a22c0",
   "metadata": {},
   "outputs": [
    {
     "name": "stdout",
     "output_type": "stream",
     "text": [
      "Give numbers and if you will write -1 it will end :34\n",
      "Give numbers and if you will write -1 it will end :3\n",
      "Give numbers and if you will write -1 it will end :100\n",
      "Give numbers and if you will write -1 it will end :56\n",
      "Give numbers and if you will write -1 it will end :-1\n",
      "All are 4 numbers\n",
      "Maximum number is 100\n",
      "Minimum number is 3\n",
      "Total is 193\n",
      "Sorted : [100, 56, 34, 3]\n"
     ]
    }
   ],
   "source": [
    "innum = 0\n",
    "listl = []\n",
    "while(innum != -1):\n",
    "    innum = int(input(\"Give numbers and if you will write -1 it will end :\"))\n",
    "    listl.append(innum)\n",
    "listl.pop()\n",
    "print(\"All are %d numbers\" % len(listl))\n",
    "print(\"Maximum number is %d\" % max(listl))\n",
    "print(\"Minimum number is %d\" %  min(listl))\n",
    "print(\"Total is %d\" % sum(listl))\n",
    "print(\"Sorted : {}\".format(sorted(listl, reverse = True)))"
   ]
  },
  {
   "cell_type": "code",
   "execution_count": 4,
   "id": "c2fad0f8",
   "metadata": {},
   "outputs": [
    {
     "name": "stdout",
     "output_type": "stream",
     "text": [
      "Please press ENTER for dice and if you want to finish press ENTER directly: 2\n",
      "Random number is :3\n",
      "Please press ENTER for dice and if you want to finish press ENTER directly: 3\n",
      "Random number is :5\n",
      "Please press ENTER for dice and if you want to finish press ENTER directly: 4\n",
      "Random number is :6\n",
      "Please press ENTER for dice and if you want to finish press ENTER directly: 2\n",
      "Random number is :4\n",
      "Please press ENTER for dice and if you want to finish press ENTER directly: 5\n",
      "Random number is :5\n",
      "Please press ENTER for dice and if you want to finish press ENTER directly: \n",
      "Game Over\n"
     ]
    }
   ],
   "source": [
    "import random as r\n",
    "while True:\n",
    "    inkey = input(\"Please press ENTER for dice and if you want to finish press ENTER directly: \")\n",
    "    if len(inkey)> 0:\n",
    "        num = r.randint(1, 6)\n",
    "        print(\"Random number is :\" + str(num))\n",
    "    else:\n",
    "            print(\"Game Over\")\n",
    "            break"
   ]
  },
  {
   "cell_type": "code",
   "execution_count": 6,
   "id": "4de1de63",
   "metadata": {},
   "outputs": [
    {
     "name": "stdout",
     "output_type": "stream",
     "text": [
      "Winning numbers of lottery are:  5, 7, 10, 19, 26, 42\n",
      "Special number is: 43\n"
     ]
    }
   ],
   "source": [
    "import random\n",
    "listl = random.sample(range(1, 50), 7)\n",
    "special = listl.pop()\n",
    "listl.sort()\n",
    "print(\"Winning numbers of lottery are: \", end = \" \")\n",
    "for i in range(6):\n",
    "    if i == 5: print(str(listl[i]))\n",
    "    else:\n",
    "            print(str(listl[i]), end =\", \")\n",
    "print(\"Special number is: \"+ str(special))"
   ]
  },
  {
   "cell_type": "code",
   "execution_count": 27,
   "id": "93769565",
   "metadata": {},
   "outputs": [
    {
     "name": "stdout",
     "output_type": "stream",
     "text": [
      "time.struct_time(tm_year=2023, tm_mon=10, tm_mday=4, tm_hour=14, tm_min=57, tm_sec=4, tm_wday=2, tm_yday=277, tm_isdst=0)\n",
      "Wed Oct  4 14:57:04 2023\n",
      "1696402624.0093405\n",
      "Right now in Taiwan 112 Year 10 Month 4 th 14 O'clock 57 Minutes 4 Week and Wednesday\n",
      " Today is 277th day of this year\n"
     ]
    }
   ],
   "source": [
    "import time as t\n",
    "week = [\"Monday\", \"Tuesday\", \"Wednesday\", \"Thursday\", \"Friday\", \"Saturday\", \"Sunday\"]\n",
    "dst = [\"th day of this year\"]\n",
    "timel = t.localtime()\n",
    "ctimel= t.ctime(t.time())\n",
    "print(timel)\n",
    "print(ctimel)\n",
    "print(t.time())\n",
    "show = \"Right now in Taiwan \" + str(int(timel.tm_year)-1911) + \" Year \"\n",
    "show += str(timel.tm_mon) + \" Month \" + str(timel.tm_mday) + \" th \"\n",
    "show += str(timel.tm_hour) + \" O'clock \" + str(timel.tm_min) + \" Minutes \"\n",
    "show += str(timel.tm_sec) + \" Week and \" + week[timel.tm_wday] + \"\\n\"\n",
    "show += \" Today is \" + str(timel.tm_yday)  + dst[timel.tm_isdst]\n",
    "print(show)"
   ]
  },
  {
   "cell_type": "code",
   "execution_count": 29,
   "id": "62487ce0",
   "metadata": {},
   "outputs": [
    {
     "name": "stdout",
     "output_type": "stream",
     "text": [
      "Tuesday\n",
      "['Sunday', 'Friday', 'Monday']\n",
      "['Sunday', 'Wednesday', 'Thursday', 'Tuesday', 'Monday', 'Friday', 'Saturday']\n",
      "['Monday', 'Sunday', 'Friday', 'Saturday', 'Thursday', 'Wednesday', 'Tuesday']\n"
     ]
    }
   ],
   "source": [
    "import random as r\n",
    "listl = [\"Monday\", \"Tuesday\", \"Wednesday\", \"Thursday\", \"Friday\", \"Saturday\", \"Sunday\"]\n",
    "choicel = r.choice(listl)\n",
    "print(choicel)\n",
    "samplel = r.sample(listl, 3)\n",
    "print(samplel)\n",
    "r.shuffle(listl)\n",
    "print(listl)\n",
    "r.shuffle(listl)\n",
    "print(listl)\n"
   ]
  },
  {
   "cell_type": "code",
   "execution_count": 30,
   "id": "cc2edc60",
   "metadata": {},
   "outputs": [
    {
     "name": "stdout",
     "output_type": "stream",
     "text": [
      "702966.7221157\n",
      "1.828125\n",
      "702966.7225726\n",
      "1.828125\n"
     ]
    }
   ],
   "source": [
    "import time\n",
    "def Test1():\n",
    "    t = time.perf_counter()\n",
    "    return t\n",
    "def Test2():\n",
    "    t = time.process_time()\n",
    "    return t\n",
    "print(Test1())\n",
    "print(Test2())\n",
    "print(Test1())\n",
    "print(Test2())"
   ]
  },
  {
   "cell_type": "code",
   "execution_count": 31,
   "id": "b1490ecc",
   "metadata": {},
   "outputs": [
    {
     "name": "stdout",
     "output_type": "stream",
     "text": [
      "I am time () to : 1696410433.5141423\n",
      "I am perf_counter () to : 703458.2972898\n",
      "I am process_time () to : 1.828125\n",
      "4999950000\n",
      "time () to : 2.022143840789795s\n",
      "I am perf_counter () to : 2.0223686000099406\n",
      "I am process_time () to : 0.015625\n",
      "Wed Oct  4 17:07:15 2023\n",
      "Done\n"
     ]
    }
   ],
   "source": [
    "import time\n",
    "print(\"I am time () to : {}\".format(time.time()))\n",
    "print(\"I am perf_counter () to : {}\".format(time.perf_counter()))\n",
    "print(\"I am process_time () to : {}\".format(time.process_time()))\n",
    "t0 = time.time()\n",
    "c0 = time.perf_counter()\n",
    "p0 = time.process_time()\n",
    "r = 0\n",
    "for i in range(100000):\n",
    "    r += i\n",
    "time.sleep(2)\n",
    "print(r)\n",
    "t1 = time.time()\n",
    "c1 = time.perf_counter()\n",
    "p1 = time.process_time()\n",
    "spend1 = t1 - t0\n",
    "spend2 = c1 - c0\n",
    "spend3 = p1 - p0\n",
    "print(\"time () to : {}s\".format(spend1))\n",
    "print(\"I am perf_counter () to : {}\".format(spend2))\n",
    "print(\"I am process_time () to : {}\".format(spend3))\n",
    "print(time.ctime(time.time()))\n",
    "print(\"Done\")"
   ]
  },
  {
   "cell_type": "code",
   "execution_count": null,
   "id": "317ec576",
   "metadata": {},
   "outputs": [],
   "source": []
  }
 ],
 "metadata": {
  "kernelspec": {
   "display_name": "Python 3 (ipykernel)",
   "language": "python",
   "name": "python3"
  },
  "language_info": {
   "codemirror_mode": {
    "name": "ipython",
    "version": 3
   },
   "file_extension": ".py",
   "mimetype": "text/x-python",
   "name": "python",
   "nbconvert_exporter": "python",
   "pygments_lexer": "ipython3",
   "version": "3.11.4"
  }
 },
 "nbformat": 4,
 "nbformat_minor": 5
}
